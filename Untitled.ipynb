{
 "cells": [
  {
   "cell_type": "code",
   "execution_count": 2,
   "id": "769b5e0d",
   "metadata": {},
   "outputs": [],
   "source": [
    "def scroll_down(driver):\n",
    "    driver.execute_script(\"window.scrollTo(0, 999999999999)\")\n",
    "    time.sleep(10)"
   ]
  },
  {
   "cell_type": "code",
   "execution_count": 3,
   "id": "146073cd",
   "metadata": {},
   "outputs": [],
   "source": [
    "def crawl(driver, data, k):\n",
    "    \n",
    "    # 어플 이름, 아이디, 리뷰, 별점, 날짜 수집\n",
    "    app_name = driver.find_element_by_css_selector('.AHFaub')\n",
    "    user_names = driver.find_elements_by_css_selector('.X43Kjb')\n",
    "    reviews = driver.find_elements_by_css_selector('.UD7Dzf')\n",
    "    star_grades = driver.find_elements_by_xpath('//div[@class=\"pf5lIe\"]/div[@role=\"img\"]')\n",
    "    dates = driver.find_elements_by_css_selector('.p2TkOb')\n",
    "    \n",
    "    # k개의 리뷰를 수집합니다.\n",
    "    for i in range(k):\n",
    "        tmp = []\n",
    "        tmp.append(app_name.text)\n",
    "        tmp.append(user_names[i].text)\n",
    "        tmp.append(reviews[i].text)\n",
    "        tmp.append(star_grades[i].get_attribute('aria-label'))\n",
    "        tmp.append(dates[i].text)\n",
    "        \n",
    "        # 수집한 1명의 리뷰를 결과 프레임에 추가합니다.\n",
    "        tmp = pd.DataFrame(data=[tmp], columns=data.columns)\n",
    "        data = pd.concat([data,tmp])\n",
    "        \n",
    "    print(app_name.text + \"앱 리뷰 수집 완료\")\n",
    "    \n",
    "    return data"
   ]
  },
  {
   "cell_type": "code",
   "execution_count": null,
   "id": "7a251ecb",
   "metadata": {},
   "outputs": [],
   "source": []
  },
  {
   "cell_type": "code",
   "execution_count": 19,
   "id": "047b4d84",
   "metadata": {},
   "outputs": [
    {
     "ename": "AttributeError",
     "evalue": "'list' object has no attribute 'click'",
     "output_type": "error",
     "traceback": [
      "\u001b[1;31m---------------------------------------------------------------------------\u001b[0m",
      "\u001b[1;31mAttributeError\u001b[0m                            Traceback (most recent call last)",
      "\u001b[1;32m~\\AppData\\Local\\Temp/ipykernel_2864/3296553588.py\u001b[0m in \u001b[0;36m<module>\u001b[1;34m\u001b[0m\n\u001b[0;32m     12\u001b[0m \u001b[0msoupCB1\u001b[0m\u001b[1;33m=\u001b[0m\u001b[0mBeautifulSoup\u001b[0m\u001b[1;33m(\u001b[0m\u001b[0mhtml\u001b[0m\u001b[1;33m,\u001b[0m\u001b[1;34m'html.parser'\u001b[0m\u001b[1;33m)\u001b[0m\u001b[1;33m\u001b[0m\u001b[1;33m\u001b[0m\u001b[0m\n\u001b[0;32m     13\u001b[0m \u001b[1;31m# button=soupCB1.select(\"div#fcxH9b > div.WpDbMd > c-wiz > div > div.ZfcPIb > div > div > main > div > div.W4P4ne  > div:nth-of-type(2) > div.PFAhAf  > span \")\u001b[0m\u001b[1;33m\u001b[0m\u001b[1;33m\u001b[0m\u001b[0m\n\u001b[1;32m---> 14\u001b[1;33m \u001b[0msoupCB1\u001b[0m\u001b[1;33m.\u001b[0m\u001b[0mselect\u001b[0m\u001b[1;33m(\u001b[0m\u001b[1;34m\"div#fcxH9b > div.WpDbMd > c-wiz > div > div.ZfcPIb > div > div > main > div > div.W4P4ne > div:nth-of-type(2) > div.PFAhAf > div > span > span\"\u001b[0m\u001b[1;33m)\u001b[0m\u001b[1;33m.\u001b[0m\u001b[0mclick\u001b[0m\u001b[1;33m(\u001b[0m\u001b[1;33m)\u001b[0m\u001b[1;33m\u001b[0m\u001b[1;33m\u001b[0m\u001b[0m\n\u001b[0m\u001b[0;32m     15\u001b[0m \u001b[1;31m# data=crwal(driver,data,200)\u001b[0m\u001b[1;33m\u001b[0m\u001b[1;33m\u001b[0m\u001b[0m\n",
      "\u001b[1;31mAttributeError\u001b[0m: 'list' object has no attribute 'click'"
     ]
    }
   ],
   "source": [
    "import pandas as pd\n",
    "import time\n",
    "from selenium import webdriver\n",
    "from bs4 import BeautifulSoup\n",
    "pd.set_option('display.max_rows',100)\n",
    "data=pd.DataFrame(data=[],columns=['어플이름','아이디','리뷰','별점','날짜'])\n",
    "wd = webdriver.Chrome(\"chromedriver.exe\")\n",
    "url = 'https://play.google.com/store/apps/details?id=com.sampleapp&hl=ko&gl=US&showAllReviews=true'\n",
    "wd.get(url)\n",
    "scroll_down(wd)\n",
    "html=wd.page_source\n",
    "soupCB1=BeautifulSoup(html,'html.parser')\n",
    "# button=soupCB1.select(\"div#fcxH9b > div.WpDbMd > c-wiz > div > div.ZfcPIb > div > div > main > div > div.W4P4ne  > div:nth-of-type(2) > div.PFAhAf  > span \")\n",
    "soupCB1.select(\"div#fcxH9b > div.WpDbMd > c-wiz > div > div.ZfcPIb > div > div > main > div > div.W4P4ne > div:nth-of-type(2) > div.PFAhAf > div > span > span\").click()\n",
    "# data=crwal(driver,data,200)"
   ]
  },
  {
   "cell_type": "code",
   "execution_count": null,
   "id": "95131247",
   "metadata": {},
   "outputs": [],
   "source": []
  }
 ],
 "metadata": {
  "kernelspec": {
   "display_name": "Python 3 (ipykernel)",
   "language": "python",
   "name": "python3"
  },
  "language_info": {
   "codemirror_mode": {
    "name": "ipython",
    "version": 3
   },
   "file_extension": ".py",
   "mimetype": "text/x-python",
   "name": "python",
   "nbconvert_exporter": "python",
   "pygments_lexer": "ipython3",
   "version": "3.9.7"
  }
 },
 "nbformat": 4,
 "nbformat_minor": 5
}
