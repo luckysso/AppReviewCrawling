{
 "cells": [
  {
   "cell_type": "code",
   "execution_count": 7,
   "id": "22613a14",
   "metadata": {
    "scrolled": false
   },
   "outputs": [
    {
     "name": "stdout",
     "output_type": "stream",
     "text": [
      "리뷰 개수 : 500\n",
      "앱 리뷰 수집 완료\n",
      "<class 'pandas.core.frame.DataFrame'>\n",
      "RangeIndex: 500 entries, 0 to 499\n",
      "Data columns (total 3 columns):\n",
      " #   Column      Non-Null Count  Dtype \n",
      "---  ------      --------------  ----- \n",
      " 0   review      500 non-null    object\n",
      " 1   starRating  500 non-null    object\n",
      " 2   label       500 non-null    object\n",
      "dtypes: object(3)\n",
      "memory usage: 11.8+ KB\n",
      "None\n"
     ]
    }
   ],
   "source": [
    "import pandas as pd\n",
    "import time\n",
    "from selenium import webdriver\n",
    "from selenium.webdriver.common.by import By\n",
    "from selenium.webdriver.support.ui import WebDriverWait\n",
    "from selenium.webdriver.support import expected_conditions as EC\n",
    "from bs4 import BeautifulSoup\n",
    "import warnings\n",
    "import re\n",
    "warnings.filterwarnings(action='ignore')\n",
    "from sklearn.linear_model import LogisticRegression\n",
    "from sklearn.model_selection import train_test_split\n",
    "from sklearn.feature_extraction.text import TfidfVectorizer\n",
    "from sklearn.model_selection import GridSearchCV\n",
    "from konlpy.tag import Okt\n",
    "\n",
    "class elementWithCssClass(object):            \n",
    "    def __call__(self, driver):        \n",
    "        element=driver.find_element_by_css_selector('div#fcxH9b > div.WpDbMd > c-wiz > div > div.ZfcPIb > div > div > main > div > div.W4P4ne  > div:nth-of-type(2) > div.PFAhAf')\n",
    "        if 'PFAhAf' in element.get_attribute(\"class\"):        \n",
    "            return element\n",
    "        else:\n",
    "            return False\n",
    "\n",
    "def crawlReview(driver,data,base,remainder):    \n",
    "    reviews = driver.find_elements_by_css_selector('.UD7Dzf')\n",
    "    star_grades = driver.find_elements_by_xpath('//div[@class=\"pf5lIe\"]/div[@role=\"img\"]')    \n",
    "    totalCount=base+remainder    \n",
    "    print(\"리뷰 개수 : \"+str(totalCount))\n",
    "    if len(reviews)<=totalCount:\n",
    "        reviewCount=len(reviews)\n",
    "    else:\n",
    "        reviewCount=base+remainder\n",
    "    for i in range(reviewCount):\n",
    "        tmp = []        \n",
    "        tmp.append(reviews[i].text)\n",
    "        starText=star_grades[i].get_attribute('aria-label')\n",
    "        tmp.append(starText[10])\n",
    "        label=0\n",
    "        if int(starText[10])==2 or int(starText[10])==1:\n",
    "            label=0\n",
    "        elif int(starText[10])==4 or int(starText[10])==5:\n",
    "            label=1\n",
    "        tmp.append(label)\n",
    "        tmp = pd.DataFrame(data=[tmp], columns=data.columns)\n",
    "        data = pd.concat([data,tmp])\n",
    "    \n",
    "    print(\"앱 리뷰 수집 완료\")\n",
    "    return data\n",
    "    \n",
    "def crawlReviews(driver,data,k):\n",
    "    result=scrolling(driver,data,k)\n",
    "    return result\n",
    "\n",
    "def scrolling(driver,data,k):\n",
    "    try:                \n",
    "        reviews = driver.find_elements_by_css_selector('.UD7Dzf')\n",
    "        if k<=200: # 기본적으로 리뷰 200개 화면에 제공\n",
    "            count=0\n",
    "            quotient=0\n",
    "        else:\n",
    "            count=(k-200)//160 + 1 #리뷰 더보기를 클릭하면 추가적으로 160개 화면에 추가제공\n",
    "            remainder=(k-200)%160            \n",
    "            quotient=count-1\n",
    "        base=200+quotient*160\n",
    "        i=0                \n",
    "        pause_time=2\n",
    "        last_height = driver.execute_script(\"return document.body.scrollHeight\")\n",
    "        while True:                        \n",
    "            driver.execute_script(\"window.scrollTo(0, document.body.scrollHeight);\")\n",
    "            time.sleep(pause_time)\n",
    "            driver.execute_script(\"window.scrollTo(0, document.body.scrollHeight-50);\")\n",
    "            time.sleep(pause_time)\n",
    "            new_height = driver.execute_script(\"return document.body.scrollHeight\")\n",
    "            value=elementWithCssClass()\n",
    "            element = WebDriverWait(driver, 20).until(value)            \n",
    "            if value != False:\n",
    "                if count !=i:                    \n",
    "                    element.click();            \n",
    "                    i+=1\n",
    "                else:\n",
    "                    break\n",
    "            else:                            \n",
    "                if new_height == last_height:\n",
    "                    print(\"Scrolling is completed!!!\")\n",
    "                    break\n",
    "                last_height = new_height                        \n",
    "        result=crawlReview(driver,data,base,remainder)\n",
    "        return result\n",
    "    except Exception as e:\n",
    "        print(\"error occurred: \", e)\n",
    "\n",
    "pd.set_option('display.max_rows',100)\n",
    "data=pd.DataFrame(data=[],columns=['review','starRating','label'])\n",
    "wd = webdriver.Chrome(\"chromedriver.exe\")\n",
    "url = 'https://play.google.com/store/apps/details?id=com.sampleapp&hl=ko&gl=US&showAllReviews=true'\n",
    "wd.get(url)\n",
    "wd.execute_script(\"\"\"\n",
    "   var l = document.getElementsByClassName(\"t5eBue ovVTif\")[0];\n",
    "   l.parentNode.removeChild(l);\n",
    "\"\"\")\n",
    "result=crawlReviews(wd,data,500)\n",
    "result.reset_index(inplace=True, drop=True)\n",
    "print(result.info())\n",
    "html=wd.page_source\n",
    "soupCB1=BeautifulSoup(html,'html.parser')\n"
   ]
  },
  {
   "cell_type": "code",
   "execution_count": 4,
   "id": "be059533",
   "metadata": {},
   "outputs": [
    {
     "ename": "NameError",
     "evalue": "name 'result' is not defined",
     "output_type": "error",
     "traceback": [
      "\u001b[1;31m---------------------------------------------------------------------------\u001b[0m",
      "\u001b[1;31mNameError\u001b[0m                                 Traceback (most recent call last)",
      "\u001b[1;32m~\\AppData\\Local\\Temp/ipykernel_9316/1135156469.py\u001b[0m in \u001b[0;36m<module>\u001b[1;34m\u001b[0m\n\u001b[0;32m     12\u001b[0m     \u001b[1;32mreturn\u001b[0m \u001b[0mtokens\u001b[0m\u001b[1;33m\u001b[0m\u001b[1;33m\u001b[0m\u001b[0m\n\u001b[0;32m     13\u001b[0m \u001b[1;33m\u001b[0m\u001b[0m\n\u001b[1;32m---> 14\u001b[1;33m \u001b[0mY\u001b[0m\u001b[1;33m=\u001b[0m\u001b[0mresult\u001b[0m\u001b[1;33m[\u001b[0m\u001b[1;34m'label'\u001b[0m\u001b[1;33m]\u001b[0m\u001b[1;33m\u001b[0m\u001b[1;33m\u001b[0m\u001b[0m\n\u001b[0m\u001b[0;32m     15\u001b[0m \u001b[0mX\u001b[0m\u001b[1;33m=\u001b[0m\u001b[0mresult\u001b[0m\u001b[1;33m[\u001b[0m\u001b[1;34m'review'\u001b[0m\u001b[1;33m]\u001b[0m\u001b[1;33m\u001b[0m\u001b[1;33m\u001b[0m\u001b[0m\n\u001b[0;32m     16\u001b[0m \u001b[0mX_train\u001b[0m\u001b[1;33m,\u001b[0m\u001b[0mX_test\u001b[0m\u001b[1;33m,\u001b[0m\u001b[0mY_train\u001b[0m\u001b[1;33m,\u001b[0m\u001b[0mY_test\u001b[0m\u001b[1;33m=\u001b[0m\u001b[0mtrain_test_split\u001b[0m\u001b[1;33m(\u001b[0m\u001b[0mX\u001b[0m\u001b[1;33m,\u001b[0m\u001b[0mY\u001b[0m\u001b[1;33m,\u001b[0m\u001b[0mtest_size\u001b[0m\u001b[1;33m=\u001b[0m\u001b[1;36m0.3\u001b[0m\u001b[1;33m,\u001b[0m\u001b[0mrandom_state\u001b[0m\u001b[1;33m=\u001b[0m\u001b[1;36m0\u001b[0m\u001b[1;33m)\u001b[0m\u001b[1;33m\u001b[0m\u001b[1;33m\u001b[0m\u001b[0m\n",
      "\u001b[1;31mNameError\u001b[0m: name 'result' is not defined"
     ]
    }
   ],
   "source": [
    "\n",
    "\n",
    "def okt_tokenizer(text):\n",
    "    tokens=okt.morphs(text)\n",
    "    return tokens\n",
    "\n",
    "Y=result['label']\n",
    "X=result['review']\n",
    "X_train,X_test,Y_train,Y_test=train_test_split(X,Y,test_size=0.3,random_state=0)\n",
    "result.to_csv('./AppReview.csv',encoding=\"utf-8-sig\",mode='w')\n",
    "result['review']=result['review'].apply(lambda x: re.sub(r'[^ ㄱ-ㅣ가-힣]+', \" \",x))\n",
    "okt=Okt()\n",
    "tfidf=TfidfVectorizer(tokenizer=okt_tokenizer,ngram_range=(1,2),min_df=3,max_df=0.9)\n",
    "tfidf.fit(result['review'])\n",
    "result_tfidf=tfidf.transform(result['review'])\n",
    "SA_lr=LogisticRegression(random_state=0)\n",
    "SA_lr.fit(result_tfidf,result['label'])\n",
    "print(1)"
   ]
  },
  {
   "cell_type": "code",
   "execution_count": 3,
   "id": "106456d3",
   "metadata": {},
   "outputs": [
    {
     "name": "stdout",
     "output_type": "stream",
     "text": [
      "['안녕']\n"
     ]
    }
   ],
   "source": [
    "from konlpy.tag import Kkma\n",
    "kkma = Kkma()\t# 아마 설치가 잘 되지 않았다면 이 단계에서 에러가 났을 것이다.\n",
    "print(kkma.nouns(u'안녕하세요 Soo입니다'))"
   ]
  },
  {
   "cell_type": "code",
   "execution_count": null,
   "id": "d3198bcf",
   "metadata": {},
   "outputs": [],
   "source": []
  }
 ],
 "metadata": {
  "kernelspec": {
   "display_name": "Python 3 (ipykernel)",
   "language": "python",
   "name": "python3"
  },
  "language_info": {
   "codemirror_mode": {
    "name": "ipython",
    "version": 3
   },
   "file_extension": ".py",
   "mimetype": "text/x-python",
   "name": "python",
   "nbconvert_exporter": "python",
   "pygments_lexer": "ipython3",
   "version": "3.9.7"
  }
 },
 "nbformat": 4,
 "nbformat_minor": 5
}
